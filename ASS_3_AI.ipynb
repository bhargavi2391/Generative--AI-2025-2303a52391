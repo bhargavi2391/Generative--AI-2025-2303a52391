{
  "nbformat": 4,
  "nbformat_minor": 0,
  "metadata": {
    "colab": {
      "provenance": [],
      "authorship_tag": "ABX9TyPWQlpjd/PbYbvNq7fQ2jOX",
      "include_colab_link": true
    },
    "kernelspec": {
      "name": "python3",
      "display_name": "Python 3"
    },
    "language_info": {
      "name": "python"
    }
  },
  "cells": [
    {
      "cell_type": "markdown",
      "metadata": {
        "id": "view-in-github",
        "colab_type": "text"
      },
      "source": [
        "<a href=\"https://colab.research.google.com/github/bhargavi2391/Generative--AI-2025-2303a52391/blob/main/ASS_3_AI.ipynb\" target=\"_parent\"><img src=\"https://colab.research.google.com/assets/colab-badge.svg\" alt=\"Open In Colab\"/></a>"
      ]
    },
    {
      "cell_type": "code",
      "execution_count": 1,
      "metadata": {
        "id": "bqXA_8OlljkB"
      },
      "outputs": [],
      "source": [
        "# Function 1: f(x) = 5x^4 + 3x^2 + 10\n",
        "# Finding minimum value using gradient descent\n",
        "def gradient_descent_f1(learning_rate=0.01, iterations=1000):\n",
        "    x = 1.0  # Initial guess\n",
        "    for _ in range(iterations):\n",
        "        gradient = 20 * x**3 + 6 * x  # Derivative of f(x)\n",
        "        x -= learning_rate * gradient\n",
        "    return x"
      ]
    },
    {
      "cell_type": "code",
      "source": [
        "# Function 2: g(x, y) = 3x^2 + 5e^(-y) + 10\n",
        "# Finding minimum values of x and y using gradient descent\n",
        "def gradient_descent_f2(learning_rate=0.01, iterations=1000):\n",
        "    x, y = 1.0, 1.0  # Initial guess\n",
        "    for _ in range(iterations):\n",
        "        gradient_x = 6 * x  # Derivative w.r.t x\n",
        "        gradient_y = -5 * (2.71828 ** -y)  # Derivative w.r.t y (approximate e^y)\n",
        "        x -= learning_rate * gradient_x\n",
        "        y -= learning_rate * gradient_y\n",
        "    return x, y"
      ],
      "metadata": {
        "id": "EMW4hq6wllkZ"
      },
      "execution_count": 2,
      "outputs": []
    },
    {
      "cell_type": "code",
      "source": [
        "# Function 3: z(x) = 1 / (1 + e^(-x))\n",
        "# Finding minimum value using gradient descent\n",
        "def gradient_descent_f3(learning_rate=0.01, iterations=1000):\n",
        "    x = 1.0  # Initial guess\n",
        "    for _ in range(iterations):\n",
        "        gradient = (2.71828 ** -x) / ((1 + 2.71828 ** -x) ** 2)  # Derivative of sigmoid function\n",
        "        x -= learning_rate * gradient\n",
        "    return x"
      ],
      "metadata": {
        "id": "M-Mgez2alr6U"
      },
      "execution_count": 3,
      "outputs": []
    },
    {
      "cell_type": "code",
      "source": [
        "# Function 4: Optimize M and C for minimum Square Error\n",
        "# Model: Output = M * Input + C\n",
        "# SE = (ExpectedOutput - PredictedOutput)^2\n",
        "def gradient_descent_f4(input_value=2, expected_output=0.5, learning_rate=0.01, iterations=1000):\n",
        "    M, C = 1.0, 1.0  # Initial guesses\n",
        "    for _ in range(iterations):\n",
        "        predicted_output = M * input_value + C\n",
        "        error = expected_output - predicted_output\n",
        "        gradient_M = -2 * input_value * error\n",
        "        gradient_C = -2 * error\n",
        "        M -= learning_rate * gradient_M\n",
        "        C -= learning_rate * gradient_C\n",
        "    return M, C"
      ],
      "metadata": {
        "id": "9OKiRcA7lyd-"
      },
      "execution_count": 4,
      "outputs": []
    },
    {
      "cell_type": "code",
      "source": [
        "print(\"Minimum x for f(x):\", gradient_descent_f1())\n",
        "print(\"Minimum x, y for g(x, y):\", gradient_descent_f2())\n",
        "print(\"Minimum x for z(x):\", gradient_descent_f3())\n",
        "print(\"Optimal M and C:\", gradient_descent_f4())"
      ],
      "metadata": {
        "colab": {
          "base_uri": "https://localhost:8080/"
        },
        "id": "NKaTJUP5l5UB",
        "outputId": "735f6013-0d65-48d9-96cc-41af9bf8d9cc"
      },
      "execution_count": 5,
      "outputs": [
        {
          "output_type": "stream",
          "name": "stdout",
          "text": [
            "Minimum x for f(x): 5.963540395046457e-28\n",
            "Minimum x, y for g(x, y): (1.3423123924933694e-27, 3.966372788969171)\n",
            "Minimum x for z(x): -1.240692576263668\n",
            "Optimal M and C: (-2.503780712715586e-16, 0.5000000000000006)\n"
          ]
        }
      ]
    }
  ]
}