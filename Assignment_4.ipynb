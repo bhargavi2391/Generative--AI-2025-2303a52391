{
  "nbformat": 4,
  "nbformat_minor": 0,
  "metadata": {
    "colab": {
      "provenance": [],
      "include_colab_link": true
    },
    "kernelspec": {
      "name": "python3",
      "display_name": "Python 3"
    },
    "language_info": {
      "name": "python"
    }
  },
  "cells": [
    {
      "cell_type": "markdown",
      "metadata": {
        "id": "view-in-github",
        "colab_type": "text"
      },
      "source": [
        "<a href=\"https://colab.research.google.com/github/bhargavi2391/Generative--AI-2025-2303a52391/blob/main/Assignment_4.ipynb\" target=\"_parent\"><img src=\"https://colab.research.google.com/assets/colab-badge.svg\" alt=\"Open In Colab\"/></a>"
      ]
    },
    {
      "cell_type": "code",
      "execution_count": null,
      "metadata": {
        "colab": {
          "base_uri": "https://localhost:8080/"
        },
        "id": "TuXQZ3r2h9xt",
        "outputId": "fdb442cc-9e1e-4afe-edbb-9de41e9534aa"
      },
      "outputs": [
        {
          "output_type": "stream",
          "name": "stdout",
          "text": [
            "Epoch 0, Loss: 1.5554\n",
            "Epoch 100, Loss: 0.0066\n",
            "Epoch 200, Loss: 0.0034\n",
            "Epoch 300, Loss: 0.0029\n",
            "Epoch 400, Loss: 0.0026\n",
            "Epoch 500, Loss: 0.0023\n",
            "Epoch 600, Loss: 0.0020\n",
            "Epoch 700, Loss: 0.0017\n",
            "Epoch 800, Loss: 0.0015\n",
            "Epoch 900, Loss: 0.0013\n",
            "Test MSE: 0.0037\n",
            "Enter x1: 0.6\n",
            "Enter x2: 0.7\n",
            "Enter x3: 0.8\n",
            "Predicted output: 0.4887\n"
          ]
        }
      ],
      "source": [
        "import numpy as np\n",
        "\n",
        "def mean_squared_error(y_true, y_pred):\n",
        "    return np.mean((y_true - y_pred) ** 2)\n",
        "\n",
        "# Training data (Tabela 1)\n",
        "x_train = np.array([\n",
        "    [0.1, 0.2, 0.3],\n",
        "    [0.2, 0.3, 0.4],\n",
        "    [0.3, 0.4, 0.5],\n",
        "    [0.5, 0.6, 0.7],\n",
        "    [0.1, 0.3, 0.5],\n",
        "    [0.2, 0.4, 0.6],\n",
        "    [0.3, 0.5, 0.7],\n",
        "    [0.4, 0.6, 0.8],\n",
        "    [0.5, 0.7, 0.1]\n",
        "])\n",
        "y_train = np.array([0.14, 0.20, 0.26, 0.38, 0.22, 0.28, 0.34, 0.40, 0.22])\n",
        "\n",
        "# Initialize weights and bias\n",
        "np.random.seed(42)\n",
        "w = np.random.rand(3)  # 3 input features\n",
        "b = np.random.rand(1)\n",
        "\n",
        "# Hyperparameters\n",
        "learning_rate = 0.01\n",
        "epochs = 1000\n",
        "\n",
        "# Training loop\n",
        "for epoch in range(epochs):\n",
        "    y_pred = np.dot(x_train, w) + b  # Linear function\n",
        "    error = y_pred - y_train\n",
        "\n",
        "    # Compute gradients\n",
        "    dw = (2 / len(x_train)) * np.dot(x_train.T, error)\n",
        "    db = (2 / len(x_train)) * np.sum(error)\n",
        "\n",
        "    # Update weights and bias\n",
        "    w -= learning_rate * dw\n",
        "    b -= learning_rate * db\n",
        "\n",
        "    # Print loss every 100 epochs\n",
        "    if epoch % 100 == 0:\n",
        "        loss = mean_squared_error(y_train, y_pred)\n",
        "        print(f\"Epoch {epoch}, Loss: {loss:.4f}\")\n",
        "\n",
        "# Test data (Tabela 2)\n",
        "x_test = np.array([\n",
        "    [0.6, 0.7, 0.8],\n",
        "    [0.7, 0.8, 0.9]\n",
        "])\n",
        "y_test = np.array([0.44, 0.50])\n",
        "\n",
        "# Predictions on test data\n",
        "y_test_pred = np.dot(x_test, w) + b\n",
        "\n",
        "# Calculate MSE for test data\n",
        "test_mse = mean_squared_error(y_test, y_test_pred)\n",
        "print(f\"Test MSE: {test_mse:.4f}\")\n",
        "\n",
        "# User input prediction\n",
        "x_input = np.array([float(input(f\"Enter x{i+1}: \")) for i in range(3)])\n",
        "prediction = np.dot(x_input, w) + b\n",
        "print(f\"Predicted output: {prediction[0]:.4f}\")"
      ]
    },
    {
      "cell_type": "code",
      "source": [
        "import numpy as np\n",
        "def sigmoid(x):\n",
        "    return 1 / (1 + np.exp(-x))\n",
        "def mean_squared_error(y_true, y_pred):\n",
        "    return np.mean((y_true - y_pred) ** 2)\n",
        "# Training data (Tabela 3)\n",
        "x_train = np.array([\n",
        "    [0.1, 0.2, 0.3],\n",
        "    [0.2, 0.3, 0.4],\n",
        "    [0.3, 0.4, 0.5],\n",
        "    [0.5, 0.6, 0.7],\n",
        "    [0.1, 0.3, 0.5],\n",
        "    [0.2, 0.4, 0.6],\n",
        "    [0.3, 0.5, 0.7],\n",
        "    [0.4, 0.6, 0.8],\n",
        "    [0.5, 0.7, 0.1]\n",
        "])\n",
        "y_train = np.array([0.5349, 0.5498, 0.5646, 0.5939, 0.5548, 0.5695, 0.5842, 0.5987, 0.5548])\n",
        "# Initialize weights and bias\n",
        "np.random.seed(42)\n",
        "w = np.random.rand(3)  # 3 input features\n",
        "b = np.random.rand(1)\n",
        "# Hyperparameters\n",
        "learning_rate = 0.01\n",
        "epochs = 1000\n",
        "# Training loop\n",
        "for epoch in range(epochs):\n",
        "    z = np.dot(x_train, w) + b  # Linear combination\n",
        "    y_pred = sigmoid(z)  # Apply sigmoid activation\n",
        "    error = y_pred - y_train\n",
        "    # Compute gradients\n",
        "    dw = (2 / len(x_train)) * np.dot(x_train.T, error * y_pred * (1 - y_pred))\n",
        "    db = (2 / len(x_train)) * np.sum(error * y_pred * (1 - y_pred))\n",
        "    # Update weights and bias\n",
        "    w -= learning_rate * dw\n",
        "    b -= learning_rate * db\n",
        "    # Print loss every 100 epochs\n",
        "    if epoch % 100 == 0:\n",
        "        loss = mean_squared_error(y_train, y_pred)\n",
        "        print(f\"Epoch {epoch}, Loss: {loss:.4f}\")\n",
        "\n",
        "# Test data (Tabela 4)\n",
        "x_test = np.array([\n",
        "    [0.6, 0.7, 0.8],\n",
        "    [0.7, 0.8, 0.9]\n",
        "])\n",
        "y_test = np.array([0.6083, 0.6225])\n",
        "\n",
        "# Predictions on test data\n",
        "y_test_pred = sigmoid(np.dot(x_test, w) + b)\n",
        "\n",
        "# Calculate MSE for test data\n",
        "test_mse = mean_squared_error(y_test, y_test_pred)\n",
        "print(f\"Test MSE: {test_mse:.4f}\")\n",
        "\n",
        "# User input prediction\n",
        "x_input = np.array([float(input(f\"Enter x{i+1}: \")) for i in range(3)])\n",
        "prediction = sigmoid(np.dot(x_input, w) + b)\n",
        "print(f\"Predicted output: {prediction[0]:.4f}\")\n"
      ],
      "metadata": {
        "colab": {
          "base_uri": "https://localhost:8080/"
        },
        "id": "sh1EJYm0h-6e",
        "outputId": "791fcaea-85ae-42b4-ef3e-71fca17560d7"
      },
      "execution_count": null,
      "outputs": [
        {
          "output_type": "stream",
          "name": "stdout",
          "text": [
            "Epoch 0, Loss: 0.0617\n",
            "Epoch 100, Loss: 0.0537\n",
            "Epoch 200, Loss: 0.0457\n",
            "Epoch 300, Loss: 0.0382\n",
            "Epoch 400, Loss: 0.0312\n",
            "Epoch 500, Loss: 0.0250\n",
            "Epoch 600, Loss: 0.0196\n",
            "Epoch 700, Loss: 0.0151\n",
            "Epoch 800, Loss: 0.0115\n",
            "Epoch 900, Loss: 0.0086\n",
            "Test MSE: 0.0146\n",
            "Enter x1: 0.7\n",
            "Enter x2: 0.8\n",
            "Enter x3: 0.9\n",
            "Predicted output: 0.7489\n"
          ]
        }
      ]
    },
    {
      "cell_type": "code",
      "source": [],
      "metadata": {
        "id": "wCh2AUYLi67J"
      },
      "execution_count": null,
      "outputs": []
    }
  ]
}